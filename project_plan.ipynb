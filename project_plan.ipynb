{
 "cells": [
  {
   "cell_type": "code",
   "execution_count": 2,
   "id": "58a33099-b2b9-466d-8989-6bd6ca182df8",
   "metadata": {},
   "outputs": [
    {
     "name": "stderr",
     "output_type": "stream",
     "text": [
      "── \u001b[1mAttaching core tidyverse packages\u001b[22m ──────────────────────── tidyverse 2.0.0 ──\n",
      "\u001b[32m✔\u001b[39m \u001b[34mdplyr    \u001b[39m 1.1.4     \u001b[32m✔\u001b[39m \u001b[34mreadr    \u001b[39m 2.1.5\n",
      "\u001b[32m✔\u001b[39m \u001b[34mforcats  \u001b[39m 1.0.0     \u001b[32m✔\u001b[39m \u001b[34mstringr  \u001b[39m 1.5.1\n",
      "\u001b[32m✔\u001b[39m \u001b[34mggplot2  \u001b[39m 3.5.1     \u001b[32m✔\u001b[39m \u001b[34mtibble   \u001b[39m 3.2.1\n",
      "\u001b[32m✔\u001b[39m \u001b[34mlubridate\u001b[39m 1.9.3     \u001b[32m✔\u001b[39m \u001b[34mtidyr    \u001b[39m 1.3.1\n",
      "\u001b[32m✔\u001b[39m \u001b[34mpurrr    \u001b[39m 1.0.2     \n",
      "── \u001b[1mConflicts\u001b[22m ────────────────────────────────────────── tidyverse_conflicts() ──\n",
      "\u001b[31m✖\u001b[39m \u001b[34mdplyr\u001b[39m::\u001b[32mfilter()\u001b[39m masks \u001b[34mstats\u001b[39m::filter()\n",
      "\u001b[31m✖\u001b[39m \u001b[34mdplyr\u001b[39m::\u001b[32mlag()\u001b[39m    masks \u001b[34mstats\u001b[39m::lag()\n",
      "\u001b[36mℹ\u001b[39m Use the conflicted package (\u001b[3m\u001b[34m<http://conflicted.r-lib.org/>\u001b[39m\u001b[23m) to force all conflicts to become errors\n"
     ]
    }
   ],
   "source": [
    "library(tidyverse)"
   ]
  },
  {
   "cell_type": "code",
   "execution_count": 32,
   "id": "4c2a6eaa-1da6-4bd9-9fd8-40ef55bdd48e",
   "metadata": {},
   "outputs": [
    {
     "name": "stderr",
     "output_type": "stream",
     "text": [
      "\u001b[1mRows: \u001b[22m\u001b[34m196\u001b[39m \u001b[1mColumns: \u001b[22m\u001b[34m9\u001b[39m\n",
      "\u001b[36m──\u001b[39m \u001b[1mColumn specification\u001b[22m \u001b[36m────────────────────────────────────────────────────────\u001b[39m\n",
      "\u001b[1mDelimiter:\u001b[22m \",\"\n",
      "\u001b[31mchr\u001b[39m (4): experience, hashedEmail, name, gender\n",
      "\u001b[32mdbl\u001b[39m (2): played_hours, age\n",
      "\u001b[33mlgl\u001b[39m (3): subscribe, individualId, organizationName\n",
      "\n",
      "\u001b[36mℹ\u001b[39m Use `spec()` to retrieve the full column specification for this data.\n",
      "\u001b[36mℹ\u001b[39m Specify the column types or set `show_col_types = FALSE` to quiet this message.\n",
      "\u001b[1mRows: \u001b[22m\u001b[34m1535\u001b[39m \u001b[1mColumns: \u001b[22m\u001b[34m5\u001b[39m\n",
      "\u001b[36m──\u001b[39m \u001b[1mColumn specification\u001b[22m \u001b[36m────────────────────────────────────────────────────────\u001b[39m\n",
      "\u001b[1mDelimiter:\u001b[22m \",\"\n",
      "\u001b[31mchr\u001b[39m (3): hashedEmail, start_time, end_time\n",
      "\u001b[32mdbl\u001b[39m (2): original_start_time, original_end_time\n",
      "\n",
      "\u001b[36mℹ\u001b[39m Use `spec()` to retrieve the full column specification for this data.\n",
      "\u001b[36mℹ\u001b[39m Specify the column types or set `show_col_types = FALSE` to quiet this message.\n"
     ]
    },
    {
     "data": {
      "text/html": [
       "<table class=\"dataframe\">\n",
       "<caption>A tibble: 0 × 7</caption>\n",
       "<thead>\n",
       "\t<tr><th scope=col>experience</th><th scope=col>subscribe</th><th scope=col>hashedEmail</th><th scope=col>played_hours</th><th scope=col>name</th><th scope=col>gender</th><th scope=col>age</th></tr>\n",
       "\t<tr><th scope=col>&lt;chr&gt;</th><th scope=col>&lt;lgl&gt;</th><th scope=col>&lt;chr&gt;</th><th scope=col>&lt;dbl&gt;</th><th scope=col>&lt;chr&gt;</th><th scope=col>&lt;chr&gt;</th><th scope=col>&lt;dbl&gt;</th></tr>\n",
       "</thead>\n",
       "<tbody>\n",
       "</tbody>\n",
       "</table>\n"
      ],
      "text/latex": [
       "A tibble: 0 × 7\n",
       "\\begin{tabular}{lllllll}\n",
       " experience & subscribe & hashedEmail & played\\_hours & name & gender & age\\\\\n",
       " <chr> & <lgl> & <chr> & <dbl> & <chr> & <chr> & <dbl>\\\\\n",
       "\\hline\n",
       "\\end{tabular}\n"
      ],
      "text/markdown": [
       "\n",
       "A tibble: 0 × 7\n",
       "\n",
       "| experience &lt;chr&gt; | subscribe &lt;lgl&gt; | hashedEmail &lt;chr&gt; | played_hours &lt;dbl&gt; | name &lt;chr&gt; | gender &lt;chr&gt; | age &lt;dbl&gt; |\n",
       "|---|---|---|---|---|---|---|\n",
       "\n"
      ],
      "text/plain": [
       "     experience subscribe hashedEmail played_hours name gender age"
      ]
     },
     "metadata": {},
     "output_type": "display_data"
    }
   ],
   "source": [
    "players_data <- read_csv('data/players.csv')\n",
    "sessions_data <- read_csv('data/sessions.csv')\n",
    "#players_data\n",
    "\n",
    "na_players <- select(players_data, experience:age) |>\n",
    "    filter(if_any(everything(), is.na))\n",
    "na_players\n",
    "# sessions_data"
   ]
  },
  {
   "cell_type": "markdown",
   "id": "b29aad3b-a917-492b-aac9-a8f9ca03f610",
   "metadata": {},
   "source": [
    "**Task: Description of the dataset**\n",
    "\n",
    "Provide a full descriptive summary of the dataset, including information such as the number of observations, number of variables, name and type of variables, what the variables mean, any issues you see in the data, any other potential issues related to things you cannot directly see, how the data were collected, etc. Make sure to use bullet point lists or tables to summarize the variables in an easy-to-understand format.\n",
    "\n",
    "Note that the selected dataset will probably contain more variables than you need. In fact, exploring how the different variables in the dataset affect your model may be a crucial part of the project. You need to summarize the full data regardless of which variables you may choose to use later on."
   ]
  },
  {
   "cell_type": "markdown",
   "id": "46b4e6c3-ee69-43ce-b05a-ff22515ac7c0",
   "metadata": {},
   "source": [
    "## Description of the data sets\n",
    "\n",
    "There are two datasets in this project: players and sessions. While the players data set has one row for each induvidual, the session data set has one row for each played session. One player can be part of several sessions. The data sets has one feature in common: hashedEmail. A hashed email in the session data set can be linked to a player via hashedEmail in the players data set.\n",
    "\n",
    "Below is more information on each data set."
   ]
  },
  {
   "cell_type": "markdown",
   "id": "877745c4-12e4-40bf-b2d1-e52bf9e30d10",
   "metadata": {},
   "source": [
    "### Players:\n",
    "196 observations, 9 variables\n",
    "- `experience` (chr) - the level of the player\n",
    "- `subscribe` (lgl) - if the player has subscripted to the game\n",
    "- `hashedEmail` (chr) - email of the player, hashed to maintain privacy\n",
    "- `played_hours` (dbl) - amount of hours player has been on the server\n",
    "- `name` (chr) - player's first name\n",
    "- `gender` (chr) - Male, Female, Non-binary or Prefer ot to say\n",
    "- `age` (dbl) - player's age\n",
    "- `individualId` (lgl) - empty for all examples\n",
    "- `organizationName` (lgl) - empty for all examples  \n",
    "\n",
    "#### Issues regarding the players data set\n",
    "\n",
    "I can not see any directly big issues regarding the data set, but it could be an advantage to modify it.\n",
    "\n",
    "The last two variables of the data set are unused. Since they do not give any information, they can be filtered away to save storage space, and to make the data set less confusing. Aside from these two columns, the data set does not miss any values, which is good news for a data scientist. I checked this by running the following code which shows an empty data frame.\n"
   ]
  },
  {
   "cell_type": "code",
   "execution_count": 33,
   "id": "48f43b77-873f-439f-9c66-a5d7cd4504d2",
   "metadata": {},
   "outputs": [
    {
     "data": {
      "text/html": [
       "<table class=\"dataframe\">\n",
       "<caption>A tibble: 0 × 7</caption>\n",
       "<thead>\n",
       "\t<tr><th scope=col>experience</th><th scope=col>subscribe</th><th scope=col>hashedEmail</th><th scope=col>played_hours</th><th scope=col>name</th><th scope=col>gender</th><th scope=col>age</th></tr>\n",
       "\t<tr><th scope=col>&lt;chr&gt;</th><th scope=col>&lt;lgl&gt;</th><th scope=col>&lt;chr&gt;</th><th scope=col>&lt;dbl&gt;</th><th scope=col>&lt;chr&gt;</th><th scope=col>&lt;chr&gt;</th><th scope=col>&lt;dbl&gt;</th></tr>\n",
       "</thead>\n",
       "<tbody>\n",
       "</tbody>\n",
       "</table>\n"
      ],
      "text/latex": [
       "A tibble: 0 × 7\n",
       "\\begin{tabular}{lllllll}\n",
       " experience & subscribe & hashedEmail & played\\_hours & name & gender & age\\\\\n",
       " <chr> & <lgl> & <chr> & <dbl> & <chr> & <chr> & <dbl>\\\\\n",
       "\\hline\n",
       "\\end{tabular}\n"
      ],
      "text/markdown": [
       "\n",
       "A tibble: 0 × 7\n",
       "\n",
       "| experience &lt;chr&gt; | subscribe &lt;lgl&gt; | hashedEmail &lt;chr&gt; | played_hours &lt;dbl&gt; | name &lt;chr&gt; | gender &lt;chr&gt; | age &lt;dbl&gt; |\n",
       "|---|---|---|---|---|---|---|\n",
       "\n"
      ],
      "text/plain": [
       "     experience subscribe hashedEmail played_hours name gender age"
      ]
     },
     "metadata": {},
     "output_type": "display_data"
    }
   ],
   "source": [
    "na_players <- select(players_data, experience:age) |>\n",
    "    filter(if_any(everything(), is.na))\n",
    "na_players"
   ]
  },
  {
   "cell_type": "markdown",
   "id": "7c87cae0-7a5f-4ab6-93c0-ab04dae34cc3",
   "metadata": {},
   "source": [
    "The data types also makes sense. At the same time, to make it even more clear what the data we are working with represents, some of the variable types could be changed. Both `played_hours` and `age` are viewed as double types, but all the entites are integeger type. This is probably because double is the default when representing numbers. The same applies for `experience`and `gender` where character is the default type, but these could also be typed as factor, since they consist of a limited amount of categories. Again, this is only suggestions to make the data frame even easier to interpret."
   ]
  },
  {
   "cell_type": "markdown",
   "id": "e20c965c-e373-4835-b02d-cba045e46011",
   "metadata": {},
   "source": [
    "### Sessions:\n",
    "1535 observations, 5 variables\n",
    "- `hashedEmail` (chr) - email of the player, hashed to maintain privacy\n",
    "- `start_time` (chr) - date and time when session started, on format \"dd/mm/yyyy 00:00\"\n",
    "- `end_time` (chr) - date and time when session ended, on format \"dd/mm/yyyy 00:00\"\n",
    "- `original_start_time` (dbl) - unix timestamp showing the original start time\n",
    "- `original_end_time` (dbl) - unix timestamp showing the original start time\n"
   ]
  },
  {
   "cell_type": "markdown",
   "id": "f3f2d4c6-f467-4850-b010-b3f7d3e4d136",
   "metadata": {},
   "source": [
    "#### Issues regarding the players data set\n",
    "sources:\n",
    "https://bookdown.org/rdpeng/rprogdatascience/dates-and-times.html\n",
    "https://ubc-dsci.github.io/dsci-100-student/REFERENCE_R.html\n",
    "https://datasciencebook.ca/reading.html"
   ]
  },
  {
   "cell_type": "code",
   "execution_count": 6,
   "id": "6856a838-e8d2-4a6e-bc99-341fb42cdeee",
   "metadata": {},
   "outputs": [
    {
     "name": "stderr",
     "output_type": "stream",
     "text": [
      "\n",
      "Attaching package: ‘lubridate’\n",
      "\n",
      "\n",
      "The following objects are masked from ‘package:base’:\n",
      "\n",
      "    date, intersect, setdiff, union\n",
      "\n",
      "\n"
     ]
    },
    {
     "data": {
      "text/plain": [
       "[1] \"2030-06-21 00:18:24 UTC\""
      ]
     },
     "metadata": {},
     "output_type": "display_data"
    }
   ],
   "source": [
    "library(lubridate)\n",
    "date <- as_datetime(\"30/06/2024 18:24\")\n",
    "date\n"
   ]
  },
  {
   "cell_type": "code",
   "execution_count": null,
   "id": "4d5d73a4-303b-41b1-b878-101c7455baa0",
   "metadata": {},
   "outputs": [],
   "source": []
  }
 ],
 "metadata": {
  "kernelspec": {
   "display_name": "R",
   "language": "R",
   "name": "ir"
  },
  "language_info": {
   "codemirror_mode": "r",
   "file_extension": ".r",
   "mimetype": "text/x-r-source",
   "name": "R",
   "pygments_lexer": "r",
   "version": "4.3.3"
  }
 },
 "nbformat": 4,
 "nbformat_minor": 5
}
